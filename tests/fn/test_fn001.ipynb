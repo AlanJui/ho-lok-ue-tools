{
 "cells": [
  {
   "cell_type": "markdown",
   "id": "2b48f639-746e-44ac-8808-3e6295a065dd",
   "metadata": {},
   "source": [
    "# 設置系統功能測試環境"
   ]
  },
  {
   "cell_type": "code",
   "execution_count": 130,
   "id": "47b765a8-f52e-41b3-9794-3040ad13c229",
   "metadata": {
    "tags": []
   },
   "outputs": [],
   "source": [
    "import time\n",
    "\n",
    "from selenium import webdriver\n",
    "from selenium.webdriver.chrome.service import Service\n",
    "from selenium.webdriver.common.by import By\n",
    "from selenium.webdriver.support.ui import WebDriverWait\n",
    "from selenium.webdriver.support import expected_conditions as EC"
   ]
  },
  {
   "cell_type": "code",
   "execution_count": 131,
   "id": "97251840-beb6-47e3-8308-7c5ec756e2a7",
   "metadata": {
    "tags": []
   },
   "outputs": [],
   "source": [
    "from settings import CHROMEDRIVER_PATH"
   ]
  },
  {
   "cell_type": "code",
   "execution_count": 132,
   "id": "f53563f3-9a7d-412b-b4fd-8a768649c2db",
   "metadata": {
    "tags": []
   },
   "outputs": [],
   "source": [
    "service = Service(executable_path=CHROMEDRIVER_PATH)"
   ]
  },
  {
   "cell_type": "code",
   "execution_count": 133,
   "id": "42199393-4447-4754-bd0b-59d0613de4bc",
   "metadata": {
    "tags": []
   },
   "outputs": [],
   "source": [
    "driver = webdriver.Chrome(service=service)"
   ]
  },
  {
   "cell_type": "markdown",
   "id": "c8cf8b57-1647-40fd-b72f-bf82863fb169",
   "metadata": {},
   "source": [
    "# 功能測試開始處"
   ]
  },
  {
   "cell_type": "code",
   "execution_count": 134,
   "id": "f78e408e-20f0-4b89-a1fe-a0cb6dcad14a",
   "metadata": {
    "tags": []
   },
   "outputs": [],
   "source": [
    "SIT_URL = \"http://localhost:8000/article_pronunciation/\""
   ]
  },
  {
   "cell_type": "markdown",
   "id": "443baa30-5e8b-42c2-8e19-f072f6fc5d5f",
   "metadata": {},
   "source": [
    "## 在瀏覽器輸入輸入網址"
   ]
  },
  {
   "cell_type": "code",
   "execution_count": 135,
   "id": "30ec5d7e-7098-4041-a9ba-a057d0c2be15",
   "metadata": {
    "tags": []
   },
   "outputs": [],
   "source": [
    "# 啟動瀏覽器\n",
    "driver.get(SIT_URL)"
   ]
  },
  {
   "cell_type": "markdown",
   "id": "5c47fb92-8274-4207-b602-062e8e78ab8e",
   "metadata": {
    "tags": []
   },
   "source": [
    "## 依「表單」要求，完成輸入"
   ]
  },
  {
   "cell_type": "code",
   "execution_count": 136,
   "id": "0f265fba-d002-4036-b60e-bd7c8ff2e6c2",
   "metadata": {
    "tags": []
   },
   "outputs": [],
   "source": [
    "input_box = driver.find_element(By.NAME, \"article\")\n",
    "input_box.send_keys(\"天\")\n",
    "\n",
    "# Locate the submit button using XPath\n",
    "submit_button = driver.find_element(\n",
    "    By.XPATH, '//input[@type=\"submit\" and @value=\"提交\"]'\n",
    ")\n",
    "\n",
    "# Pause\n",
    "time.sleep(5)\n",
    "\n",
    "# Click the submit button\n",
    "submit_button.click()"
   ]
  },
  {
   "cell_type": "markdown",
   "id": "39db978b-9e91-4d9d-9e24-200188659e3e",
   "metadata": {},
   "source": [
    "## 取得輸出之結果，以待驗證功能應有之作業，是否正確執行"
   ]
  },
  {
   "cell_type": "code",
   "execution_count": 137,
   "id": "9d8d522a-e023-4371-a50b-6092e866fd45",
   "metadata": {},
   "outputs": [],
   "source": [
    "WebDriverWait(driver, 5).until(\n",
    "     EC.presence_of_element_located((By.CSS_SELECTOR, \"ruby, rt\"))\n",
    ")\n",
    "\n",
    "# Find all 'ruby' elements on the page\n",
    "ruby_elements = driver.find_elements(By.CSS_SELECTOR, \"ruby\")\n",
    "\n",
    "# Iterate through the 'ruby' elements and find the one with the text '天'\n",
    "for ruby in ruby_elements:\n",
    "    if ruby.text.strip().strip(\"天\"):\n",
    "        break\n",
    "    else:\n",
    "        raise AssertionError(\"The 'ruby' element with the text '天' was not found\")\n",
    "\n",
    "# Find the corresponding 'rt' element\n",
    "rt = ruby.find_element(By.TAG_NAME, \"rt\")"
   ]
  },
  {
   "cell_type": "markdown",
   "id": "ce323165-d5ec-4d2c-8853-9f55097a62bd",
   "metadata": {},
   "source": [
    "## 研判系統能否依據輸入，完成應有之作業及提供預期應有之輸出，藉此驗證可滿足該系統功能需求。"
   ]
  },
  {
   "cell_type": "code",
   "execution_count": 138,
   "id": "eff5129c-7787-49a1-9b22-ef9b135a822c",
   "metadata": {},
   "outputs": [
    {
     "name": "stdout",
     "output_type": "stream",
     "text": [
      "功能測試通過\n"
     ]
    }
   ],
   "source": [
    "# Assert that the found 'ruby' and 'rt' elements have the expected text\n",
    "assert ruby.text.strip() == \"天\\n堅一他\", f\"Expected '天\\n堅一他', but got '{ruby.text.strip()}'\"\n",
    "assert rt.text.strip() == \"堅一他\", f\"Expected '堅一他', but got '{rt.text.strip()}'\"\n",
    "\n",
    "print(\"功能測試通過\")"
   ]
  },
  {
   "cell_type": "markdown",
   "id": "e97a25a2-806c-431f-a9c4-e0d7da15fb44",
   "metadata": {},
   "source": [
    "# 功能測試結束處"
   ]
  },
  {
   "cell_type": "code",
   "execution_count": 139,
   "id": "5d9494e3-ca66-4a9a-bff8-7e5d18284b76",
   "metadata": {
    "tags": []
   },
   "outputs": [],
   "source": [
    "# 關閉瀏覽器視窗\n",
    "driver.quit()"
   ]
  }
 ],
 "metadata": {
  "kernelspec": {
   "display_name": "Python 3 (ipykernel)",
   "language": "python",
   "name": "python3"
  },
  "language_info": {
   "codemirror_mode": {
    "name": "ipython",
    "version": 3
   },
   "file_extension": ".py",
   "mimetype": "text/x-python",
   "name": "python",
   "nbconvert_exporter": "python",
   "pygments_lexer": "ipython3",
   "version": "3.10.6"
  }
 },
 "nbformat": 4,
 "nbformat_minor": 5
}
