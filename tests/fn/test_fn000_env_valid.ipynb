{
 "cells": [
  {
   "cell_type": "code",
   "execution_count": 8,
   "id": "47b765a8-f52e-41b3-9794-3040ad13c229",
   "metadata": {
    "tags": []
   },
   "outputs": [],
   "source": [
    "import time\n",
    "from selenium import webdriver"
   ]
  },
  {
   "cell_type": "code",
   "execution_count": 9,
   "id": "30ec5d7e-7098-4041-a9ba-a057d0c2be15",
   "metadata": {
    "tags": []
   },
   "outputs": [],
   "source": [
    "# 啟動Chrome瀏覽器\n",
    "driver = webdriver.Chrome()"
   ]
  },
  {
   "cell_type": "code",
   "execution_count": 10,
   "id": "b26206a9-9e63-4aea-89a2-70067abb9912",
   "metadata": {
    "tags": []
   },
   "outputs": [],
   "source": [
    "# 瀏覽指定網址\n",
    "driver.get('https://www.google.com')"
   ]
  },
  {
   "cell_type": "code",
   "execution_count": 11,
   "id": "0f265fba-d002-4036-b60e-bd7c8ff2e6c2",
   "metadata": {
    "tags": []
   },
   "outputs": [
    {
     "name": "stdout",
     "output_type": "stream",
     "text": [
      "Selenium與ChromeDriver配置成功！\n"
     ]
    }
   ],
   "source": [
    "# 確認網頁標題是否包含\"Google\"\n",
    "assert \"Google\" in driver.title\n",
    "print(\"Selenium與ChromeDriver配置成功！\")"
   ]
  },
  {
   "cell_type": "code",
   "execution_count": 12,
   "id": "9d8d522a-e023-4371-a50b-6092e866fd45",
   "metadata": {},
   "outputs": [],
   "source": [
    "# 暫停 5 秒\n",
    "time.sleep(5)"
   ]
  },
  {
   "cell_type": "code",
   "execution_count": 13,
   "id": "eff5129c-7787-49a1-9b22-ef9b135a822c",
   "metadata": {},
   "outputs": [],
   "source": [
    "driver.get('https://www.python.org/')"
   ]
  },
  {
   "cell_type": "code",
   "execution_count": 14,
   "id": "64308836-6b96-4f84-8df5-8d6df0a44832",
   "metadata": {
    "tags": []
   },
   "outputs": [
    {
     "name": "stdout",
     "output_type": "stream",
     "text": [
      "Selenium與ChromeDriver配置成功！\n"
     ]
    }
   ],
   "source": [
    "# 確認網頁標題是否包含\"Python.org\"\n",
    "assert \"Python.org\" in driver.title\n",
    "print(\"Selenium與ChromeDriver配置成功！\")"
   ]
  },
  {
   "cell_type": "code",
   "execution_count": 15,
   "id": "b89e3c73-a344-4e0f-b8c1-85d054c20eff",
   "metadata": {},
   "outputs": [],
   "source": [
    "# 暫停 5 秒\n",
    "time.sleep(5)"
   ]
  },
  {
   "cell_type": "code",
   "execution_count": 16,
   "id": "5d9494e3-ca66-4a9a-bff8-7e5d18284b76",
   "metadata": {
    "tags": []
   },
   "outputs": [],
   "source": [
    "# 關閉瀏覽器視窗\n",
    "driver.quit()"
   ]
  }
 ],
 "metadata": {
  "kernelspec": {
   "display_name": "Python 3 (ipykernel)",
   "language": "python",
   "name": "python3"
  },
  "language_info": {
   "codemirror_mode": {
    "name": "ipython",
    "version": 3
   },
   "file_extension": ".py",
   "mimetype": "text/x-python",
   "name": "python",
   "nbconvert_exporter": "python",
   "pygments_lexer": "ipython3",
   "version": "3.10.6"
  }
 },
 "nbformat": 4,
 "nbformat_minor": 5
}
